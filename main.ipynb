{
 "cells": [
  {
   "cell_type": "code",
   "execution_count": 29,
   "id": "f47af962-c6bf-4c6e-8840-b1ca94c80ec2",
   "metadata": {},
   "outputs": [],
   "source": [
    "# import os\n",
    "import re\n",
    "import pymupdf\n",
    "import pandas as pd"
   ]
  },
  {
   "cell_type": "code",
   "execution_count": 4,
   "id": "917f2c2c-0cb4-431b-93c0-7a792afc58a3",
   "metadata": {},
   "outputs": [],
   "source": [
    "file_path = \"handbook.pdf\""
   ]
  },
  {
   "cell_type": "code",
   "execution_count": 3,
   "id": "2762685d-5dc4-4b09-b67b-ee798e3a3c2b",
   "metadata": {},
   "outputs": [
    {
     "name": "stdout",
     "output_type": "stream",
     "text": [
      "1.26.3\n"
     ]
    }
   ],
   "source": [
    "print(pymupdf.__version__)"
   ]
  },
  {
   "cell_type": "code",
   "execution_count": 6,
   "id": "c082a5ca-989f-4f58-a011-a29ee609d3a2",
   "metadata": {},
   "outputs": [
    {
     "name": "stderr",
     "output_type": "stream",
     "text": [
      "c:\\Users\\Stephanie\\Downloads\\LLM-Zoomcamp-Capstone-Project\\venv\\Lib\\site-packages\\tqdm\\auto.py:21: TqdmWarning: IProgress not found. Please update jupyter and ipywidgets. See https://ipywidgets.readthedocs.io/en/stable/user_install.html\n",
      "  from .autonotebook import tqdm as notebook_tqdm\n"
     ]
    }
   ],
   "source": [
    "from tqdm.auto import tqdm"
   ]
  },
  {
   "cell_type": "code",
   "execution_count": 5,
   "id": "2653f1a2",
   "metadata": {},
   "outputs": [
    {
     "name": "stdout",
     "output_type": "stream",
     "text": [
      "Collecting tqdm\n",
      "  Obtaining dependency information for tqdm from https://files.pythonhosted.org/packages/d0/30/dc54f88dd4a2b5dc8a0279bdd7270e735851848b762aeb1c1184ed1f6b14/tqdm-4.67.1-py3-none-any.whl.metadata\n",
      "  Downloading tqdm-4.67.1-py3-none-any.whl.metadata (57 kB)\n",
      "     ---------------------------------------- 0.0/57.7 kB ? eta -:--:--\n",
      "     ---------------------------------------- 0.0/57.7 kB ? eta -:--:--\n",
      "     ---------------------------------------- 0.0/57.7 kB ? eta -:--:--\n",
      "     ---------------------------------------- 0.0/57.7 kB ? eta -:--:--\n",
      "     ---------------------------------------- 0.0/57.7 kB ? eta -:--:--\n",
      "     ---------------------------------------- 0.0/57.7 kB ? eta -:--:--\n",
      "     ---------------------------------------- 0.0/57.7 kB ? eta -:--:--\n",
      "     ---------------------------------------- 0.0/57.7 kB ? eta -:--:--\n",
      "     ---------------------------------------- 0.0/57.7 kB ? eta -:--:--\n",
      "     ---------------------------------------- 0.0/57.7 kB ? eta -:--:--\n",
      "     ---------------------------------------- 0.0/57.7 kB ? eta -:--:--\n",
      "     ---------------------------------------- 0.0/57.7 kB ? eta -:--:--\n",
      "     ---------------------------------------- 0.0/57.7 kB ? eta -:--:--\n",
      "     ------- -------------------------------- 10.2/57.7 kB ? eta -:--:--\n",
      "     ------- -------------------------------- 10.2/57.7 kB ? eta -:--:--\n",
      "     ------- -------------------------------- 10.2/57.7 kB ? eta -:--:--\n",
      "     ------- -------------------------------- 10.2/57.7 kB ? eta -:--:--\n",
      "     ------- -------------------------------- 10.2/57.7 kB ? eta -:--:--\n",
      "     ------- -------------------------------- 10.2/57.7 kB ? eta -:--:--\n",
      "     ------- -------------------------------- 10.2/57.7 kB ? eta -:--:--\n",
      "     ------- -------------------------------- 10.2/57.7 kB ? eta -:--:--\n",
      "     ------- -------------------------------- 10.2/57.7 kB ? eta -:--:--\n",
      "     ------- -------------------------------- 10.2/57.7 kB ? eta -:--:--\n",
      "     ------- -------------------------------- 10.2/57.7 kB ? eta -:--:--\n",
      "     ------------- ------------------------- 20.5/57.7 kB 11.9 kB/s eta 0:00:04\n",
      "     ------------- ------------------------- 20.5/57.7 kB 11.9 kB/s eta 0:00:04\n",
      "     ------------- ------------------------- 20.5/57.7 kB 11.9 kB/s eta 0:00:04\n",
      "     ------------- ------------------------- 20.5/57.7 kB 11.9 kB/s eta 0:00:04\n",
      "     ------------- ------------------------- 20.5/57.7 kB 11.9 kB/s eta 0:00:04\n",
      "     ------------- ------------------------- 20.5/57.7 kB 11.9 kB/s eta 0:00:04\n",
      "     ------------- ------------------------- 20.5/57.7 kB 11.9 kB/s eta 0:00:04\n",
      "     ------------- ------------------------- 20.5/57.7 kB 11.9 kB/s eta 0:00:04\n",
      "     ------------- ------------------------- 20.5/57.7 kB 11.9 kB/s eta 0:00:04\n",
      "     ------------- ------------------------- 20.5/57.7 kB 11.9 kB/s eta 0:00:04\n",
      "     ------------- ------------------------- 20.5/57.7 kB 11.9 kB/s eta 0:00:04\n",
      "     ------------- ------------------------- 20.5/57.7 kB 11.9 kB/s eta 0:00:04\n",
      "     ------------- ------------------------- 20.5/57.7 kB 11.9 kB/s eta 0:00:04\n",
      "     ------------- ------------------------- 20.5/57.7 kB 11.9 kB/s eta 0:00:04\n",
      "     ------------- ------------------------- 20.5/57.7 kB 11.9 kB/s eta 0:00:04\n",
      "     ------------- ------------------------- 20.5/57.7 kB 11.9 kB/s eta 0:00:04\n",
      "     ------------- ------------------------- 20.5/57.7 kB 11.9 kB/s eta 0:00:04\n",
      "     --------------------------- ----------- 41.0/57.7 kB 17.2 kB/s eta 0:00:01\n",
      "     --------------------------- ----------- 41.0/57.7 kB 17.2 kB/s eta 0:00:01\n",
      "     --------------------------- ----------- 41.0/57.7 kB 17.2 kB/s eta 0:00:01\n",
      "     --------------------------- ----------- 41.0/57.7 kB 17.2 kB/s eta 0:00:01\n",
      "     ---------------------------------- ---- 51.2/57.7 kB 21.0 kB/s eta 0:00:01\n",
      "     ---------------------------------- ---- 51.2/57.7 kB 21.0 kB/s eta 0:00:01\n",
      "     ---------------------------------- ---- 51.2/57.7 kB 21.0 kB/s eta 0:00:01\n",
      "     --------------------------------------- 57.7/57.7 kB 22.8 kB/s eta 0:00:00\n",
      "Requirement already satisfied: colorama in c:\\users\\stephanie\\downloads\\llm-zoomcamp-capstone-project\\venv\\lib\\site-packages (from tqdm) (0.4.6)\n",
      "Downloading tqdm-4.67.1-py3-none-any.whl (78 kB)\n",
      "   ---------------------------------------- 0.0/78.5 kB ? eta -:--:--\n",
      "   ---------------------------------------- 0.0/78.5 kB ? eta -:--:--\n",
      "   ---------------------------------------- 0.0/78.5 kB ? eta -:--:--\n",
      "   ---------------------------------------- 0.0/78.5 kB ? eta -:--:--\n",
      "   ---------------------------------------- 0.0/78.5 kB ? eta -:--:--\n",
      "   ---------------------------------------- 0.0/78.5 kB ? eta -:--:--\n",
      "   ---------------------------------------- 0.0/78.5 kB ? eta -:--:--\n",
      "   ---------------------------------------- 0.0/78.5 kB ? eta -:--:--\n",
      "   ---------------------------------------- 0.0/78.5 kB ? eta -:--:--\n",
      "   ----- ---------------------------------- 10.2/78.5 kB ? eta -:--:--\n",
      "   ----- ---------------------------------- 10.2/78.5 kB ? eta -:--:--\n",
      "   ----- ---------------------------------- 10.2/78.5 kB ? eta -:--:--\n",
      "   ----- ---------------------------------- 10.2/78.5 kB ? eta -:--:--\n",
      "   --------------- ------------------------ 30.7/78.5 kB 81.9 kB/s eta 0:00:01\n",
      "   --------------- ------------------------ 30.7/78.5 kB 81.9 kB/s eta 0:00:01\n",
      "   --------------- ------------------------ 30.7/78.5 kB 81.9 kB/s eta 0:00:01\n",
      "   --------------- ------------------------ 30.7/78.5 kB 81.9 kB/s eta 0:00:01\n",
      "   --------------- ------------------------ 30.7/78.5 kB 81.9 kB/s eta 0:00:01\n",
      "   --------------- ------------------------ 30.7/78.5 kB 81.9 kB/s eta 0:00:01\n",
      "   --------------- ------------------------ 30.7/78.5 kB 81.9 kB/s eta 0:00:01\n",
      "   -------------------- ------------------- 41.0/78.5 kB 50.4 kB/s eta 0:00:01\n",
      "   -------------------- ------------------- 41.0/78.5 kB 50.4 kB/s eta 0:00:01\n",
      "   -------------------- ------------------- 41.0/78.5 kB 50.4 kB/s eta 0:00:01\n",
      "   -------------------- ------------------- 41.0/78.5 kB 50.4 kB/s eta 0:00:01\n",
      "   -------------------- ------------------- 41.0/78.5 kB 50.4 kB/s eta 0:00:01\n",
      "   -------------------- ------------------- 41.0/78.5 kB 50.4 kB/s eta 0:00:01\n",
      "   ------------------------------- -------- 61.4/78.5 kB 54.6 kB/s eta 0:00:01\n",
      "   ------------------------------- -------- 61.4/78.5 kB 54.6 kB/s eta 0:00:01\n",
      "   ------------------------------- -------- 61.4/78.5 kB 54.6 kB/s eta 0:00:01\n",
      "   ------------------------------- -------- 61.4/78.5 kB 54.6 kB/s eta 0:00:01\n",
      "   ------------------------------- -------- 61.4/78.5 kB 54.6 kB/s eta 0:00:01\n",
      "   ------------------------------- -------- 61.4/78.5 kB 54.6 kB/s eta 0:00:01\n",
      "   ------------------------------- -------- 61.4/78.5 kB 54.6 kB/s eta 0:00:01\n",
      "   ------------------------------- -------- 61.4/78.5 kB 54.6 kB/s eta 0:00:01\n",
      "   ------------------------------- -------- 61.4/78.5 kB 54.6 kB/s eta 0:00:01\n",
      "   ------------------------------- -------- 61.4/78.5 kB 54.6 kB/s eta 0:00:01\n",
      "   ------------------------------- -------- 61.4/78.5 kB 54.6 kB/s eta 0:00:01\n",
      "   ------------------------------- -------- 61.4/78.5 kB 54.6 kB/s eta 0:00:01\n",
      "   ------------------------------- -------- 61.4/78.5 kB 54.6 kB/s eta 0:00:01\n",
      "   ------------------------------- -------- 61.4/78.5 kB 54.6 kB/s eta 0:00:01\n",
      "   ------------------------------- -------- 61.4/78.5 kB 54.6 kB/s eta 0:00:01\n",
      "   ------------------------------- -------- 61.4/78.5 kB 54.6 kB/s eta 0:00:01\n",
      "   ------------------------------- -------- 61.4/78.5 kB 54.6 kB/s eta 0:00:01\n",
      "   ------------------------------- -------- 61.4/78.5 kB 54.6 kB/s eta 0:00:01\n",
      "   ------------------------------- -------- 61.4/78.5 kB 54.6 kB/s eta 0:00:01\n",
      "   ---------------------------------------- 78.5/78.5 kB 37.3 kB/s eta 0:00:00\n",
      "Installing collected packages: tqdm\n",
      "Successfully installed tqdm-4.67.1\n"
     ]
    },
    {
     "name": "stderr",
     "output_type": "stream",
     "text": [
      "\n",
      "[notice] A new release of pip is available: 23.2.1 -> 25.2\n",
      "[notice] To update, run: python.exe -m pip install --upgrade pip\n"
     ]
    }
   ],
   "source": [
    "!pip install tqdm"
   ]
  },
  {
   "cell_type": "code",
   "execution_count": null,
   "id": "52b8ee21",
   "metadata": {},
   "outputs": [
    {
     "name": "stderr",
     "output_type": "stream",
     "text": [
      "Reading Pages....: 100%|██████████| 192/192 [00:00<00:00, 197.57it/s]\n"
     ]
    }
   ],
   "source": [
    "def read_pdf(file_path):\n",
    "    doc = pymupdf.open(file_path)\n",
    "    pages_and_texts = []\n",
    "\n",
    "    for page_number , page in enumerate(tqdm(doc, desc=\"Reading Pages....\")):\n",
    "        text = page.get_text()\n",
    "        # text = text.replace(\"\\n\", \" \").strip()\n",
    "        pages_and_texts.append({\n",
    "            \"page number\": page_number - 11,\n",
    "            \"number of characters\": len(text),\n",
    "            \"word count\": len(text.split(\" \")),\n",
    "            \"page_token_count\": len(text) / 4,\n",
    "            \"text\": text\n",
    "        })\n",
    "\n",
    "    return pages_and_texts\n",
    "\n",
    "pages_and_texts = read_pdf(file_path)\n",
    "    "
   ]
  },
  {
   "cell_type": "code",
   "execution_count": 21,
   "id": "f8c867a4",
   "metadata": {},
   "outputs": [
    {
     "name": "stdout",
     "output_type": "stream",
     "text": [
      "{'page number': 2, 'number of characters': 1420, 'word count': 238, 'page_token_count': 355.0, 'text': '2  value for their investment. It is also common knowledge that every  covenant is ratified by blood and, as a church-sponsored  University, we consider the blood of Jesus Christ, which is the  blood of the everlasting covenant, as our stronghold in the  fulfilment of this awesome obligation. Covenant University vows  to make of her graduates, expert thinkers, leader-managers, and  hyper-resourceful technocrats in all fields of human endeavour.  1.2.  THE UNIVERSITY  On October 21, 2002, the African educational landscape was  radically altered by the formal entry of Covenant University (CU)  into the higher education context. The University is located at  Canaanland, Ota, Ogun State, Nigeria. The University is a growing,  dynamic, vision-birthed and vision-driven University, founded on  a Christian mission ethos and committed to pioneering excellence  at the cutting edge of learning.  The University’s specific mandate can be stated as follows:  •  Raising a new generation of leaders through a qualitative  and life-applicable training system that focuses on value  and skill development.  •  Raising a new generation of leaders through a broad-based  qualitative education built on sound biblical principles  culminating in the birth of path-finders, pace-setters and  trail-blazers.  •  Raising a new generation of leaders who shall redeem the  battered image of the black race and restore her lost glory'}\n"
     ]
    }
   ],
   "source": [
    "print(pages_and_texts[13])"
   ]
  },
  {
   "cell_type": "code",
   "execution_count": 26,
   "id": "deccc1eb",
   "metadata": {},
   "outputs": [
    {
     "data": {
      "text/html": [
       "<div>\n",
       "<style scoped>\n",
       "    .dataframe tbody tr th:only-of-type {\n",
       "        vertical-align: middle;\n",
       "    }\n",
       "\n",
       "    .dataframe tbody tr th {\n",
       "        vertical-align: top;\n",
       "    }\n",
       "\n",
       "    .dataframe thead th {\n",
       "        text-align: right;\n",
       "    }\n",
       "</style>\n",
       "<table border=\"1\" class=\"dataframe\">\n",
       "  <thead>\n",
       "    <tr style=\"text-align: right;\">\n",
       "      <th></th>\n",
       "      <th>page number</th>\n",
       "      <th>number of characters</th>\n",
       "      <th>word count</th>\n",
       "      <th>page_token_count</th>\n",
       "      <th>text</th>\n",
       "    </tr>\n",
       "  </thead>\n",
       "  <tbody>\n",
       "    <tr>\n",
       "      <th>0</th>\n",
       "      <td>-11</td>\n",
       "      <td>0</td>\n",
       "      <td>1</td>\n",
       "      <td>0.00</td>\n",
       "      <td></td>\n",
       "    </tr>\n",
       "    <tr>\n",
       "      <th>1</th>\n",
       "      <td>-10</td>\n",
       "      <td>62</td>\n",
       "      <td>19</td>\n",
       "      <td>15.50</td>\n",
       "      <td>COVENANT UNIVERSITY  STUDENT HANDBOOK         ...</td>\n",
       "    </tr>\n",
       "    <tr>\n",
       "      <th>2</th>\n",
       "      <td>-9</td>\n",
       "      <td>335</td>\n",
       "      <td>83</td>\n",
       "      <td>83.75</td>\n",
       "      <td>i  Covenant University  Student Handbook | 201...</td>\n",
       "    </tr>\n",
       "    <tr>\n",
       "      <th>3</th>\n",
       "      <td>-8</td>\n",
       "      <td>482</td>\n",
       "      <td>105</td>\n",
       "      <td>120.50</td>\n",
       "      <td>ii  CHANCELLOR  David O. Oyedepo, Ph.D., FNAE ...</td>\n",
       "    </tr>\n",
       "    <tr>\n",
       "      <th>4</th>\n",
       "      <td>-7</td>\n",
       "      <td>2438</td>\n",
       "      <td>188</td>\n",
       "      <td>609.50</td>\n",
       "      <td>iii  TABLE OF CONTENTS    Table of Contents .....</td>\n",
       "    </tr>\n",
       "  </tbody>\n",
       "</table>\n",
       "</div>"
      ],
      "text/plain": [
       "   page number  number of characters  word count  page_token_count  \\\n",
       "0          -11                     0           1              0.00   \n",
       "1          -10                    62          19             15.50   \n",
       "2           -9                   335          83             83.75   \n",
       "3           -8                   482         105            120.50   \n",
       "4           -7                  2438         188            609.50   \n",
       "\n",
       "                                                text  \n",
       "0                                                     \n",
       "1  COVENANT UNIVERSITY  STUDENT HANDBOOK         ...  \n",
       "2  i  Covenant University  Student Handbook | 201...  \n",
       "3  ii  CHANCELLOR  David O. Oyedepo, Ph.D., FNAE ...  \n",
       "4  iii  TABLE OF CONTENTS    Table of Contents .....  "
      ]
     },
     "execution_count": 26,
     "metadata": {},
     "output_type": "execute_result"
    }
   ],
   "source": [
    "df = pd.DataFrame(pages_and_texts)\n",
    "df.head()"
   ]
  },
  {
   "cell_type": "code",
   "execution_count": 27,
   "id": "81c6a502",
   "metadata": {},
   "outputs": [
    {
     "data": {
      "text/html": [
       "<div>\n",
       "<style scoped>\n",
       "    .dataframe tbody tr th:only-of-type {\n",
       "        vertical-align: middle;\n",
       "    }\n",
       "\n",
       "    .dataframe tbody tr th {\n",
       "        vertical-align: top;\n",
       "    }\n",
       "\n",
       "    .dataframe thead th {\n",
       "        text-align: right;\n",
       "    }\n",
       "</style>\n",
       "<table border=\"1\" class=\"dataframe\">\n",
       "  <thead>\n",
       "    <tr style=\"text-align: right;\">\n",
       "      <th></th>\n",
       "      <th>page number</th>\n",
       "      <th>number of characters</th>\n",
       "      <th>word count</th>\n",
       "      <th>page_token_count</th>\n",
       "    </tr>\n",
       "  </thead>\n",
       "  <tbody>\n",
       "    <tr>\n",
       "      <th>count</th>\n",
       "      <td>192.00</td>\n",
       "      <td>192.00</td>\n",
       "      <td>192.00</td>\n",
       "      <td>192.00</td>\n",
       "    </tr>\n",
       "    <tr>\n",
       "      <th>mean</th>\n",
       "      <td>84.50</td>\n",
       "      <td>1101.18</td>\n",
       "      <td>185.34</td>\n",
       "      <td>275.30</td>\n",
       "    </tr>\n",
       "    <tr>\n",
       "      <th>std</th>\n",
       "      <td>55.57</td>\n",
       "      <td>481.36</td>\n",
       "      <td>60.11</td>\n",
       "      <td>120.34</td>\n",
       "    </tr>\n",
       "    <tr>\n",
       "      <th>min</th>\n",
       "      <td>-11.00</td>\n",
       "      <td>0.00</td>\n",
       "      <td>1.00</td>\n",
       "      <td>0.00</td>\n",
       "    </tr>\n",
       "    <tr>\n",
       "      <th>25%</th>\n",
       "      <td>36.75</td>\n",
       "      <td>886.75</td>\n",
       "      <td>156.75</td>\n",
       "      <td>221.69</td>\n",
       "    </tr>\n",
       "    <tr>\n",
       "      <th>50%</th>\n",
       "      <td>84.50</td>\n",
       "      <td>1113.50</td>\n",
       "      <td>203.00</td>\n",
       "      <td>278.38</td>\n",
       "    </tr>\n",
       "    <tr>\n",
       "      <th>75%</th>\n",
       "      <td>132.25</td>\n",
       "      <td>1321.25</td>\n",
       "      <td>227.00</td>\n",
       "      <td>330.31</td>\n",
       "    </tr>\n",
       "    <tr>\n",
       "      <th>max</th>\n",
       "      <td>180.00</td>\n",
       "      <td>3051.00</td>\n",
       "      <td>291.00</td>\n",
       "      <td>762.75</td>\n",
       "    </tr>\n",
       "  </tbody>\n",
       "</table>\n",
       "</div>"
      ],
      "text/plain": [
       "       page number  number of characters  word count  page_token_count\n",
       "count       192.00                192.00      192.00            192.00\n",
       "mean         84.50               1101.18      185.34            275.30\n",
       "std          55.57                481.36       60.11            120.34\n",
       "min         -11.00                  0.00        1.00              0.00\n",
       "25%          36.75                886.75      156.75            221.69\n",
       "50%          84.50               1113.50      203.00            278.38\n",
       "75%         132.25               1321.25      227.00            330.31\n",
       "max         180.00               3051.00      291.00            762.75"
      ]
     },
     "execution_count": 27,
     "metadata": {},
     "output_type": "execute_result"
    }
   ],
   "source": [
    "# Get stats\n",
    "df.describe().round(2)"
   ]
  },
  {
   "cell_type": "code",
   "execution_count": null,
   "id": "d53e04a1",
   "metadata": {},
   "outputs": [],
   "source": [
    "# mean token count = 275.30\n",
    "# so I can use a 384 embedding model!"
   ]
  },
  {
   "cell_type": "markdown",
   "id": "79f058b2",
   "metadata": {},
   "source": [
    "I want to split each page into sections and subsections"
   ]
  },
  {
   "cell_type": "code",
   "execution_count": 81,
   "id": "66336d94",
   "metadata": {},
   "outputs": [],
   "source": [
    "pattern = re.compile(\n",
    "    r\"(\\d+(?:\\.\\d+)*)(?:\\.\\s*|\\s+)([A-Z][A-Z\\s:\\-\\(\\)]+?)(?=(?:\\s+[A-Z][a-z])|(?:\\s*\\d+\\.)|$)\"\n",
    ")\n",
    "\n",
    "def split_sections(text):\n",
    "    matches = list(pattern.finditer(text))\n",
    "    sections = []\n",
    "    \n",
    "    for i, match in enumerate(matches):\n",
    "        title = match.string[match.start():match.end()].strip()\n",
    "        start = match.end()\n",
    "        end = matches[i+1].start() if i+1 < len(matches) else len(text)\n",
    "        content = text[start:end].strip()\n",
    "        \n",
    "        sections.append({\n",
    "            \"title\": title,\n",
    "            \"text\": content\n",
    "        })\n",
    "    return sections"
   ]
  },
  {
   "cell_type": "code",
   "execution_count": 86,
   "id": "4febb80d",
   "metadata": {},
   "outputs": [
    {
     "ename": "TypeError",
     "evalue": "list indices must be integers or slices, not str",
     "output_type": "error",
     "traceback": [
      "\u001b[31m---------------------------------------------------------------------------\u001b[39m",
      "\u001b[31mTypeError\u001b[39m                                 Traceback (most recent call last)",
      "\u001b[36mCell\u001b[39m\u001b[36m \u001b[39m\u001b[32mIn[86]\u001b[39m\u001b[32m, line 6\u001b[39m\n\u001b[32m      4\u001b[39m sections = split_sections(page[\u001b[33m\"\u001b[39m\u001b[33mtext\u001b[39m\u001b[33m\"\u001b[39m])\n\u001b[32m      5\u001b[39m \u001b[38;5;28;01mif\u001b[39;00m sections != []:\n\u001b[32m----> \u001b[39m\u001b[32m6\u001b[39m     \u001b[38;5;28;01mif\u001b[39;00m \u001b[43msections\u001b[49m\u001b[43m[\u001b[49m\u001b[33;43m\"\u001b[39;49m\u001b[33;43mtext\u001b[39;49m\u001b[33;43m\"\u001b[39;49m\u001b[43m]\u001b[49m == \u001b[33m\"\u001b[39m\u001b[33m\"\u001b[39m:\n\u001b[32m      7\u001b[39m         current_chapter = sections[\u001b[33m\"\u001b[39m\u001b[33mtitle\u001b[39m\u001b[33m\"\u001b[39m]\n\u001b[32m      9\u001b[39m     sections[\u001b[33m'\u001b[39m\u001b[33mchapter\u001b[39m\u001b[33m'\u001b[39m] = current_chapter\n",
      "\u001b[31mTypeError\u001b[39m: list indices must be integers or slices, not str"
     ]
    }
   ],
   "source": [
    "document = []\n",
    "current_chapter = \"\"\n",
    "for page in pages_and_texts[11:]:\n",
    "    sections = split_sections(page[\"text\"])\n",
    "    if sections != []:\n",
    "        if sections[\"text\"] == \"\":\n",
    "            current_chapter = sections[\"title\"]\n",
    "\n",
    "        sections['chapter'] = current_chapter\n",
    "        document.append(sections)"
   ]
  },
  {
   "cell_type": "code",
   "execution_count": 85,
   "id": "44e1540e",
   "metadata": {},
   "outputs": [
    {
     "data": {
      "text/plain": [
       "[]"
      ]
     },
     "execution_count": 85,
     "metadata": {},
     "output_type": "execute_result"
    }
   ],
   "source": [
    "document"
   ]
  },
  {
   "cell_type": "code",
   "execution_count": null,
   "id": "4310ec23",
   "metadata": {},
   "outputs": [],
   "source": []
  }
 ],
 "metadata": {
  "kernelspec": {
   "display_name": "venv (3.12.1)",
   "language": "python",
   "name": "python3"
  },
  "language_info": {
   "codemirror_mode": {
    "name": "ipython",
    "version": 3
   },
   "file_extension": ".py",
   "mimetype": "text/x-python",
   "name": "python",
   "nbconvert_exporter": "python",
   "pygments_lexer": "ipython3",
   "version": "3.12.1"
  }
 },
 "nbformat": 4,
 "nbformat_minor": 5
}
